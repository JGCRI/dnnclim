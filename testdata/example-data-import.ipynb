{
 "cells": [
  {
   "cell_type": "markdown",
   "metadata": {},
   "source": [
    "## Import data from the current directory and write to default dump file"
   ]
  },
  {
   "cell_type": "code",
   "execution_count": 1,
   "metadata": {
    "collapsed": true
   },
   "outputs": [],
   "source": [
    "from dnnclim import data\n",
    "import os\n",
    "import pickle"
   ]
  },
  {
   "cell_type": "code",
   "execution_count": 2,
   "metadata": {
    "collapsed": false,
    "scrolled": true
   },
   "outputs": [
    {
     "name": "stdout",
     "output_type": "stream",
     "text": [
      "tempfiles :  ['./tas_Amon_CESM1-CAM5_rcp26_r1i1p1_200601-210012.nc', './tas_Amon_CESM1-CAM5_rcp26_r2i1p1_200601-210012.nc', './tas_Amon_CESM1-CAM5_rcp26_r3i1p1_200601-210012.nc']\n",
      "prfiles :  ['./pr_Amon_CESM1-CAM5_rcp26_r1i1p1_200601-210012.nc', './pr_Amon_CESM1-CAM5_rcp26_r2i1p1_200601-210012.nc', './pr_Amon_CESM1-CAM5_rcp26_r3i1p1_200601-210012.nc']\n",
      "topofiles :  ['./sftlf_fx_CESM1-CAM5_historical_r0i0p0.nc', './orog_fx_CESM1-CAM5_historical_r0i0p0.nc']\n",
      "Data checks passed.\n",
      "dim fields = (95, 192, 288)\n",
      "nscen = 3\n",
      "dim allfields = (285, 192, 288, 2)\n",
      "dim allgmeans = (285, 2)\n",
      "total cases: 285\n",
      "training cases: 142\n",
      "  [ 91 207 168 156 260 155   6  69 245 261 250  79 202 181 167 228 252 160\n",
      " 194  63  29  30 159 206 163 136 254 210 177 276 137  71 236 100 171 212\n",
      " 243 118 134  27 218 231  68  44 145 162 104  31 151 221 115 265 157 190\n",
      " 253 150   3 178  86 141  50 219 241  33 158  49 208  74  32  85  46  54\n",
      " 125 281 161 213  34  55 251 224 223 217  67 133   2 216  94  83 271 187\n",
      " 259 233 188  81  40  52  77 144  43 284  48 214  98 274 123  41 138  90\n",
      "  64 244 278 227  10 238 106  22 196 226  61  73  76 135 215 191 186  16\n",
      "  66 130 283 111 148 248 175 201 127 205 235 267 198 128 121   4]\n",
      "dev cases: 71\n",
      "  [116  13  60   8  36  17 149 182  58 184  75   0 229 179  35 203  56 266\n",
      " 189  51   7  15 237 112 275 139  21 264 154  96 247  28  95  45 262 124\n",
      "  25   9 268   5 173 120  11 222 240  14  62 209 108 105 164 185 153 234\n",
      " 169 199 170 200 193 109 143 280 256 126  57 113 239 273 197  89 166]\n",
      "test cases: 72\n",
      "  [269 282 110  84 258 195  65  88 101 211  39 147 257 165 114 142 263  87\n",
      " 249  72  70 180 220 242 122 277  26  99  82 270 230  78 192 146 174 183\n",
      " 117  93 176  53 225 132  80  47  97  23 172 107 272 152 129  37 246 131\n",
      "  12 102 204  38 103  24  19  20 119  59 279  42  92  18 232 255 140   1]\n",
      "geo dim:  (192, 288)\n"
     ]
    }
   ],
   "source": [
    "climdata = data.process_dir('.')"
   ]
  },
  {
   "cell_type": "markdown",
   "metadata": {},
   "source": [
    "### Print field sizes"
   ]
  },
  {
   "cell_type": "code",
   "execution_count": 3,
   "metadata": {
    "collapsed": false
   },
   "outputs": [
    {
     "name": "stdout",
     "output_type": "stream",
     "text": [
      "dataset: train\n",
      "\tfld:  (142, 192, 288, 2)\n",
      "\tgmean:  (142, 2)\n",
      "dataset: dev\n",
      "\tfld:  (71, 192, 288, 2)\n",
      "\tgmean:  (71, 2)\n",
      "dataset: test\n",
      "\tfld:  (72, 192, 288, 2)\n",
      "\tgmean:  (72, 2)\n",
      "dataset: geo\n",
      "\tgeo:  (192, 288, 4)\n"
     ]
    }
   ],
   "source": [
    "for dset in climdata:\n",
    "    print('dataset: {}'.format(dset))\n",
    "    if dset == 'geo':\n",
    "        print('\\tgeo: ', climdata[dset].shape)\n",
    "    else:\n",
    "        print('\\tfld: ', climdata[dset]['fld'].shape)\n",
    "        print('\\tgmean: ', climdata[dset]['gmean'].shape)"
   ]
  },
  {
   "cell_type": "markdown",
   "metadata": {},
   "source": [
    "## Verify data written to dump file"
   ]
  },
  {
   "cell_type": "code",
   "execution_count": 4,
   "metadata": {
    "collapsed": true
   },
   "outputs": [],
   "source": [
    "infile = open('dnnclim.dat','rb')\n",
    "climdata2 = pickle.load(infile)\n",
    "infile.close()"
   ]
  },
  {
   "cell_type": "code",
   "execution_count": 5,
   "metadata": {
    "collapsed": false
   },
   "outputs": [
    {
     "data": {
      "text/plain": [
       "dict_keys(['fld', 'gmean'])"
      ]
     },
     "execution_count": 5,
     "metadata": {},
     "output_type": "execute_result"
    }
   ],
   "source": [
    "climdata['train'].keys()"
   ]
  },
  {
   "cell_type": "code",
   "execution_count": 6,
   "metadata": {
    "collapsed": false
   },
   "outputs": [
    {
     "data": {
      "text/plain": [
       "True"
      ]
     },
     "execution_count": 6,
     "metadata": {},
     "output_type": "execute_result"
    }
   ],
   "source": [
    "(climdata['train']['fld'] == climdata2['train']['fld']).all()"
   ]
  },
  {
   "cell_type": "code",
   "execution_count": null,
   "metadata": {
    "collapsed": true
   },
   "outputs": [],
   "source": []
  }
 ],
 "metadata": {
  "kernelspec": {
   "display_name": "Python 3",
   "language": "python",
   "name": "python3"
  },
  "language_info": {
   "codemirror_mode": {
    "name": "ipython",
    "version": 3
   },
   "file_extension": ".py",
   "mimetype": "text/x-python",
   "name": "python",
   "nbconvert_exporter": "python",
   "pygments_lexer": "ipython3",
   "version": "3.6.0"
  }
 },
 "nbformat": 4,
 "nbformat_minor": 2
}
