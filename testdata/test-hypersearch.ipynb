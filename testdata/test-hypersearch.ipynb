{
 "cells": [
  {
   "cell_type": "code",
   "execution_count": 1,
   "metadata": {
    "collapsed": true,
    "deletable": true,
    "editable": true
   },
   "outputs": [],
   "source": [
    "from dnnclim import hypersearch as hs\n",
    "from dnnclim import validate_modelspec\n",
    "import yaml"
   ]
  },
  {
   "cell_type": "code",
   "execution_count": 2,
   "metadata": {
    "collapsed": false,
    "deletable": true,
    "editable": true
   },
   "outputs": [],
   "source": [
    "config0 = \\\n",
    "    (# config 0\n",
    "        (\n",
    "            ( # stage 1\n",
    "                ('C', 10, (3,3)),\n",
    "                ('C', 10, (3,3)),\n",
    "                ('D', (2,3))\n",
    "            ),\n",
    "        ),\n",
    "        (\n",
    "            ( # stage 1\n",
    "                ('U', 10, (3,3), (4,4)),\n",
    "                ('C', 10, (3,3))    \n",
    "            ),\n",
    "            ( # stage 2\n",
    "                ('U', 10, (3,3), (4,4)),\n",
    "            ),\n",
    "            ( # stage 3\n",
    "                ('U', 10, (3,3), (6,6)),\n",
    "            )\n",
    "        ),\n",
    "        (\n",
    "            ( # stage 1\n",
    "                ('U', 10, (3,3), (2,3)),\n",
    "                ('C', 2, (3,3))\n",
    "            ),\n",
    "        ),\n",
    "        {'learnrate':0.01, 'regularization':('L1', 1.0), 'temp-loss':('normal',1.0), 'precip-loss':('qp', 1.0)}\n",
    "    )"
   ]
  },
  {
   "cell_type": "code",
   "execution_count": 3,
   "metadata": {
    "collapsed": false,
    "deletable": true,
    "editable": true
   },
   "outputs": [
    {
     "name": "stdout",
     "output_type": "stream",
     "text": [
      "!!python/tuple\n",
      "- !!python/tuple\n",
      "  - !!python/tuple\n",
      "    - !!python/tuple\n",
      "      - C\n",
      "      - 10\n",
      "      - !!python/tuple [3, 3]\n",
      "    - !!python/tuple\n",
      "      - C\n",
      "      - 10\n",
      "      - !!python/tuple [3, 3]\n",
      "    - !!python/tuple\n",
      "      - D\n",
      "      - !!python/tuple [2, 3]\n",
      "- !!python/tuple\n",
      "  - !!python/tuple\n",
      "    - !!python/tuple\n",
      "      - U\n",
      "      - 10\n",
      "      - !!python/tuple [3, 3]\n",
      "      - !!python/tuple [4, 4]\n",
      "    - !!python/tuple\n",
      "      - C\n",
      "      - 10\n",
      "      - !!python/tuple [3, 3]\n",
      "  - !!python/tuple\n",
      "    - !!python/tuple\n",
      "      - U\n",
      "      - 10\n",
      "      - !!python/tuple [3, 3]\n",
      "      - !!python/tuple [4, 4]\n",
      "  - !!python/tuple\n",
      "    - !!python/tuple\n",
      "      - U\n",
      "      - 10\n",
      "      - !!python/tuple [3, 3]\n",
      "      - !!python/tuple [6, 6]\n",
      "- !!python/tuple\n",
      "  - !!python/tuple\n",
      "    - !!python/tuple\n",
      "      - U\n",
      "      - 10\n",
      "      - !!python/tuple [3, 3]\n",
      "      - !!python/tuple [2, 3]\n",
      "    - !!python/tuple\n",
      "      - C\n",
      "      - 2\n",
      "      - !!python/tuple [3, 3]\n",
      "- learnrate: 0.01\n",
      "  precip-loss: !!python/tuple [qp, 1.0]\n",
      "  regularization: !!python/tuple [L1, 1.0]\n",
      "  temp-loss: !!python/tuple [normal, 1.0]\n",
      "\n"
     ]
    }
   ],
   "source": [
    "print(yaml.dump(config0))"
   ]
  },
  {
   "cell_type": "code",
   "execution_count": 4,
   "metadata": {
    "collapsed": false,
    "deletable": true,
    "editable": true,
    "scrolled": false
   },
   "outputs": [
    {
     "name": "stdout",
     "output_type": "stream",
     "text": [
      "***layer param: 370\n",
      "\tnchannel in= 4  nchannel out= 10\n",
      "***layer param: 910\n",
      "\tnchannel in= 10  nchannel out= 10\n",
      "***layer param: 190\n",
      "***layer param: 910\n",
      "***layer param: 910\n",
      "***layer param: 910\n",
      "ds_stage_sizes: [(96, 96, 10), (192, 288, 4)]\n",
      "***layer param: 1810\n",
      "\tU-bind accounting:  usnchannel= 10  dsnchannel= 10\n",
      "***layer param: 362\n",
      "\tusnchannel = 20\n",
      "Downsampling branch:\t1 stages\tfinal size: (96, 96, 10)\n",
      "      Scalar branch:\t3 stages\tfinal size: (96, 96, 10)\n",
      "  Upsampling branch:\t1 stages\tfinal size: (192, 288, 10)\n",
      "\n",
      "Total free parameters:\t6378\n",
      "\n",
      " (((('C', 10, (3, 3)), ('C', 10, (3, 3)), ('D', (2, 3))),), ((('U', 10, (3, 3), (4, 4)), ('C', 10, (3, 3))), (('U', 10, (3, 3), (4, 4)),), (('U', 10, (3, 3), (6, 6)),)), ((('U', 10, (3, 3), (2, 3)), ('C', 2, (3, 3))),), {'learnrate': 0.018595168250453, 'regularization': ('L1', 1.0), 'temp-loss': ('normal', 1.0), 'precip-loss': ('qp', 1.0)})\n"
     ]
    }
   ],
   "source": [
    "config = hs.mutate_config(config0)\n",
    "validate_modelspec(config)\n",
    "print('\\n',config)"
   ]
  },
  {
   "cell_type": "code",
   "execution_count": 5,
   "metadata": {
    "collapsed": false,
    "deletable": true,
    "editable": true
   },
   "outputs": [
    {
     "name": "stdout",
     "output_type": "stream",
     "text": [
      "***layer param: 490\n",
      "\tnchannel in= 4  nchannel out= 10\n",
      "***layer param: 310\n",
      "\tnchannel in= 10  nchannel out= 10\n",
      "***layer param: 190\n",
      "***layer param: 910\n",
      "***layer param: 910\n",
      "***layer param: 910\n",
      "***layer param: 2743\n",
      "ds_stage_sizes: [(96, 96, 10), (192, 288, 4)]\n",
      "***layer param: 4155\n",
      "\tU-bind accounting:  usnchannel= 15  dsnchannel= 10\n",
      "***layer param: 7813\n",
      "\tusnchannel = 25\n",
      "Downsampling branch:\t1 stages\tfinal size: (96, 96, 10)\n",
      "      Scalar branch:\t3 stages\tfinal size: (96, 96, 10)\n",
      "  Upsampling branch:\t1 stages\tfinal size: (192, 288, 15)\n",
      "\n",
      "Total free parameters:\t18459\n",
      "\n",
      " (((('C', 10, (4, 3)), ('C', 10, (1, 3)), ('D', (2, 3))),), ((('U', 10, (3, 3), (4, 4)), ('C', 10, (3, 3))), (('U', 10, (3, 3), (4, 4)),), (('U', 10, (3, 3), (6, 6)), ('C', 13, (7, 3)))), ((('U', 15, (4, 3), (2, 3)), ('C', 13, (4, 6))),), {'learnrate': 0.01, 'regularization': ('L1', 1.0), 'temp-loss': ('normal', 0.5235658097434341), 'precip-loss': ('qp', 2.0767031811109793)})\n"
     ]
    }
   ],
   "source": [
    "config1 = config0\n",
    "for i in range(10):\n",
    "    config1 = hs.mutate_config(config1)\n",
    "validate_modelspec(config1)\n",
    "print('\\n',config1)"
   ]
  },
  {
   "cell_type": "code",
   "execution_count": 6,
   "metadata": {
    "collapsed": false,
    "deletable": true,
    "editable": true
   },
   "outputs": [
    {
     "name": "stdout",
     "output_type": "stream",
     "text": [
      "***layer param: 490\n",
      "\tnchannel in= 4  nchannel out= 10\n",
      "***layer param: 310\n",
      "\tnchannel in= 10  nchannel out= 10\n",
      "***layer param: 190\n",
      "***layer param: 910\n",
      "***layer param: 910\n",
      "***layer param: 910\n",
      "ds_stage_sizes: [(96, 96, 10), (192, 288, 4)]\n",
      "***layer param: 1810\n",
      "\tU-bind accounting:  usnchannel= 10  dsnchannel= 10\n",
      "***layer param: 362\n",
      "\tusnchannel = 20\n",
      "Downsampling branch:\t1 stages\tfinal size: (96, 96, 10)\n",
      "      Scalar branch:\t3 stages\tfinal size: (96, 96, 10)\n",
      "  Upsampling branch:\t1 stages\tfinal size: (192, 288, 10)\n",
      "\n",
      "Total free parameters:\t5898\n",
      "\n",
      " (((('C', 10, (4, 3)), ('C', 10, (1, 3)), ('D', (2, 3))),), ((('U', 10, (3, 3), (4, 4)), ('C', 10, (3, 3))), (('U', 10, (3, 3), (4, 4)),), (('U', 10, (3, 3), (6, 6)),)), ((('U', 10, (3, 3), (2, 3)), ('C', 2, (3, 3))),), {'learnrate': 0.01, 'regularization': ('L1', 1.0), 'temp-loss': ('normal', 1.0), 'precip-loss': ('qp', 1.0)})\n"
     ]
    }
   ],
   "source": [
    "config2 = hs.conjugate(config0, config1, 0)\n",
    "validate_modelspec(config2)\n",
    "print('\\n',config2)"
   ]
  },
  {
   "cell_type": "code",
   "execution_count": 7,
   "metadata": {
    "collapsed": false,
    "deletable": true,
    "editable": true
   },
   "outputs": [
    {
     "data": {
      "text/plain": [
       "(('U', 10, (3, 3), (4, 4)), ('C', 10, (3, 3)))"
      ]
     },
     "execution_count": 7,
     "metadata": {},
     "output_type": "execute_result"
    }
   ],
   "source": [
    "config2[1][0]"
   ]
  },
  {
   "cell_type": "code",
   "execution_count": 11,
   "metadata": {
    "collapsed": false
   },
   "outputs": [
    {
     "data": {
      "text/plain": [
       "(('U', 10, (3, 3), (4, 4)),)"
      ]
     },
     "execution_count": 11,
     "metadata": {},
     "output_type": "execute_result"
    }
   ],
   "source": [
    "config3 = hs.mutate_stage(config2[1][0])\n",
    "config3"
   ]
  },
  {
   "cell_type": "code",
   "execution_count": 39,
   "metadata": {
    "collapsed": false
   },
   "outputs": [
    {
     "data": {
      "text/plain": [
       "(('U', 9, (3, 3), (4, 4)),)"
      ]
     },
     "execution_count": 39,
     "metadata": {},
     "output_type": "execute_result"
    }
   ],
   "source": [
    "hs.mutate_stage(config3)"
   ]
  },
  {
   "cell_type": "code",
   "execution_count": null,
   "metadata": {
    "collapsed": true
   },
   "outputs": [],
   "source": []
  }
 ],
 "metadata": {
  "kernelspec": {
   "display_name": "Python 3",
   "language": "python",
   "name": "python3"
  },
  "language_info": {
   "codemirror_mode": {
    "name": "ipython",
    "version": 3
   },
   "file_extension": ".py",
   "mimetype": "text/x-python",
   "name": "python",
   "nbconvert_exporter": "python",
   "pygments_lexer": "ipython3",
   "version": "3.6.0"
  }
 },
 "nbformat": 4,
 "nbformat_minor": 2
}
