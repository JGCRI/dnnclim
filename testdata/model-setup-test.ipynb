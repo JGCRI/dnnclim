{
 "cells": [
  {
   "cell_type": "code",
   "execution_count": 1,
   "metadata": {
    "collapsed": false,
    "deletable": true,
    "editable": true
   },
   "outputs": [],
   "source": [
    "from dnnclim import model\n",
    "import pickle\n",
    "import time"
   ]
  },
  {
   "cell_type": "code",
   "execution_count": 2,
   "metadata": {
    "collapsed": false,
    "deletable": true,
    "editable": true
   },
   "outputs": [],
   "source": [
    "dsbranch = (\n",
    "    ( # stage 1\n",
    "        ('C', 10, (3,3)),\n",
    "        ('C', 10, (3,3)),\n",
    "        ('D', (2,3))\n",
    "    ),\n",
    ")\n",
    "\n",
    "sclbranch = (\n",
    "    ( # stage 1\n",
    "        ('U', 10, (3,3), (4,4)),\n",
    "        ('C', 10, (3,3))    \n",
    "    ),\n",
    "    ( # stage 2\n",
    "        ('U', 10, (3,3), (4,4)),\n",
    "    ),\n",
    "    ( # stage 3\n",
    "        ('U', 10, (3,3), (6,6)),\n",
    "    )\n",
    ")\n",
    "\n",
    "usbranch = (\n",
    "    ( # stage 1\n",
    "        ('U', 10, (3,3), (2,3)),\n",
    "        ('C', 2, (3,3))\n",
    "    ),\n",
    ")\n",
    "\n",
    "otherargs = {'learnrate':0.01, 'regularization':('L1', 1.0), 'temp-loss':('normal',1.0), 'precip-loss':('qp', 1.0)}\n",
    "\n",
    "modelspec = (dsbranch, sclbranch, usbranch, otherargs)"
   ]
  },
  {
   "cell_type": "code",
   "execution_count": 3,
   "metadata": {
    "collapsed": false,
    "deletable": true,
    "editable": true
   },
   "outputs": [],
   "source": [
    "infile = open('dnnclim.dat','rb')\n",
    "dnnclim = pickle.load(infile)\n"
   ]
  },
  {
   "cell_type": "code",
   "execution_count": 4,
   "metadata": {
    "collapsed": false,
    "deletable": true,
    "editable": true
   },
   "outputs": [
    {
     "name": "stdout",
     "output_type": "stream",
     "text": [
      "stdfac = [2.78415187e+02 2.92515452e-05]\n",
      "***layer param: 370\n",
      "\tnchannel in= 4  nchannel out= 10\n",
      "***layer param: 910\n",
      "\tnchannel in= 10  nchannel out= 10\n",
      "***layer param: 190\n",
      "***layer param: 910\n",
      "***layer param: 910\n",
      "***layer param: 910\n",
      "ds_stage_sizes: [(96, 96, 10), (192, 288, 4)]\n",
      "***layer param: 1810\n",
      "\tU-bind accounting:  usnchannel= 10  dsnchannel= 10\n",
      "***layer param: 362\n",
      "\tusnchannel = 20\n",
      "Downsampling branch:\t1 stages\tfinal size: (96, 96, 10)\n",
      "      Scalar branch:\t3 stages\tfinal size: (96, 96, 10)\n",
      "  Upsampling branch:\t1 stages\tfinal size: (192, 288, 10)\n",
      "\n",
      "Total free parameters:\t6372\n",
      "regscl = 34.71186440677966\n",
      "Model checkpoint at epoch= 0, \n",
      "\ttemploss per grid cell= 0.2512203688166324,  preciploss per grid cell= 0.4241247042803697  \n",
      "\tregval= 0.003151436429130701  totalloss= 0.678496470722483\n",
      "Model checkpoint at epoch= 1, \n",
      "\ttemploss per grid cell= 0.25123162386500714,  preciploss per grid cell= 0.4241247042803697  \n",
      "\tregval= 0.0025792243770466038  totalloss= 0.6779355331205985\n",
      "Model checkpoint at epoch= 2, \n",
      "\ttemploss per grid cell= 0.25123162386500714,  preciploss per grid cell= 0.4241247042803697  \n",
      "\tregval= 0.002404504973999087  totalloss= 0.6777608649582681\n",
      "Model checkpoint at epoch= 3, \n",
      "\ttemploss per grid cell= 0.25123162386500714,  preciploss per grid cell= 0.4241247042803697  \n",
      "\tregval= 0.002292258700916527  totalloss= 0.67764860102455\n",
      "Model checkpoint at epoch= 4, \n",
      "\ttemploss per grid cell= 0.25123162386500714,  preciploss per grid cell= 0.4241247042803697  \n",
      "\tregval= 0.002226377317043537  totalloss= 0.6775826945178012\n",
      "Model checkpoint at epoch= 5, \n",
      "\ttemploss per grid cell= 0.25123162386500714,  preciploss per grid cell= 0.4241247042803697  \n",
      "\tregval= 0.002191557011134188  totalloss= 0.67754786276979\n",
      "Model checkpoint at epoch= 6, \n",
      "\ttemploss per grid cell= 0.25123162386500714,  preciploss per grid cell= 0.4241247042803697  \n",
      "\tregval= 0.002171201760655713  totalloss= 0.6775275495565988\n",
      "Model checkpoint at epoch= 7, \n",
      "\ttemploss per grid cell= 0.25123162386500714,  preciploss per grid cell= 0.4241247042803697  \n",
      "\tregval= 0.002159645735253626  totalloss= 0.6775159601998565\n",
      "Model checkpoint at epoch= 8, \n",
      "\ttemploss per grid cell= 0.25123162386500714,  preciploss per grid cell= 0.4241247042803697  \n",
      "\tregval= 0.0021485946547817178  totalloss= 0.6775049439431728\n",
      "Model checkpoint at epoch= 9, \n",
      "\ttemploss per grid cell= 0.25123162386500714,  preciploss per grid cell= 0.4241247042803697  \n",
      "\tregval= 0.0021422562278305794  totalloss= 0.6774985761647431\n",
      "lowest loss value: (278.2953, 2.518707)\n",
      "checkpoint file: ./dnnclimsave-9\n",
      "run time per epoch: 15.45466521051195\n"
     ]
    }
   ],
   "source": [
    "t1 = time.time()\n",
    "(loss, ckptfile, niter) = model.runmodel(modelspec, dnnclim, epochs=10, savefile='./dnnclimsave', outfile='./dnnclimout.dat')\n",
    "t2 = time.time()\n",
    "print('lowest loss value: {}'.format(loss))\n",
    "print('checkpoint file: {}'.format(ckptfile))\n",
    "print('run time per epoch: {}'.format((t2-t1)/niter))"
   ]
  }
 ],
 "metadata": {
  "kernelspec": {
   "display_name": "Python 3",
   "language": "python",
   "name": "python3"
  },
  "language_info": {
   "codemirror_mode": {
    "name": "ipython",
    "version": 3
   },
   "file_extension": ".py",
   "mimetype": "text/x-python",
   "name": "python",
   "nbconvert_exporter": "python",
   "pygments_lexer": "ipython3",
   "version": "3.6.0"
  }
 },
 "nbformat": 4,
 "nbformat_minor": 2
}
