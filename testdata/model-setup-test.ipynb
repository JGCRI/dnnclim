{
 "cells": [
  {
   "cell_type": "code",
   "execution_count": 1,
   "metadata": {
    "collapsed": false,
    "deletable": true,
    "editable": true
   },
   "outputs": [],
   "source": [
    "from dnnclim import model\n",
    "import pickle\n",
    "import time"
   ]
  },
  {
   "cell_type": "code",
   "execution_count": 2,
   "metadata": {
    "collapsed": false,
    "deletable": true,
    "editable": true
   },
   "outputs": [],
   "source": [
    "dsbranch = (\n",
    "    ( # stage 1\n",
    "        ('C', 10, (3,3)),\n",
    "        ('C', 10, (3,3)),\n",
    "        ('D', (2,3))\n",
    "    ),\n",
    ")\n",
    "\n",
    "sclbranch = (\n",
    "    ( # stage 1\n",
    "        ('U', 10, (3,3), (4,4)),\n",
    "        ('C', 10, (3,3))    \n",
    "    ),\n",
    "    ( # stage 2\n",
    "        ('U', 10, (3,3), (4,4)),\n",
    "    ),\n",
    "    ( # stage 3\n",
    "        ('U', 10, (3,3), (6,6)),\n",
    "    )\n",
    ")\n",
    "\n",
    "usbranch = (\n",
    "    ( # stage 1\n",
    "        ('U', 10, (3,3), (2,3)),\n",
    "        ('C', 2, (3,3))\n",
    "    ),\n",
    ")\n",
    "\n",
    "otherargs = {'learnrate':0.001}\n",
    "\n",
    "modelspec = [dsbranch, sclbranch, usbranch, otherargs]"
   ]
  },
  {
   "cell_type": "code",
   "execution_count": 3,
   "metadata": {
    "collapsed": false,
    "deletable": true,
    "editable": true
   },
   "outputs": [
    {
     "name": "stdout",
     "output_type": "stream",
     "text": [
      "***layer param: 370\n",
      "\tnchannel in= 4  nchannel out= 10\n",
      "***layer param: 910\n",
      "\tnchannel in= 10  nchannel out= 10\n",
      "***layer param: 190\n",
      "***layer param: 910\n",
      "***layer param: 910\n",
      "***layer param: 910\n",
      "ds_stage_sizes: [(96, 96, 10), (192, 288, 4)]\n",
      "***layer param: 1810\n",
      "\tU-bind accounting:  usnchannel= 10  dsnchannel= 10\n",
      "***layer param: 362\n",
      "\tusnchannel = 20\n",
      "Downsampling branch:\t1 stages\tfinal size: (96, 96, 10)\n",
      "      Scalar branch:\t3 stages\tfinal size: (96, 96, 10)\n",
      "  Upsampling branch:\t1 stages\tfinal size: (192, 288, 10)\n",
      "\n",
      "Total free parameters:\t6372\n"
     ]
    }
   ],
   "source": [
    "model.validate_modelspec(modelspec)"
   ]
  },
  {
   "cell_type": "code",
   "execution_count": 4,
   "metadata": {
    "collapsed": false,
    "deletable": true,
    "editable": true
   },
   "outputs": [],
   "source": [
    "infile = open('dnnclim.dat','rb')\n",
    "dnnclim = pickle.load(infile)\n"
   ]
  },
  {
   "cell_type": "code",
   "execution_count": 5,
   "metadata": {
    "collapsed": false,
    "deletable": true,
    "editable": true
   },
   "outputs": [
    {
     "name": "stdout",
     "output_type": "stream",
     "text": [
      "***layer param: 370\n",
      "\tnchannel in= 4  nchannel out= 10\n",
      "***layer param: 910\n",
      "\tnchannel in= 10  nchannel out= 10\n",
      "***layer param: 190\n",
      "***layer param: 910\n",
      "***layer param: 910\n",
      "***layer param: 910\n",
      "ds_stage_sizes: [(96, 96, 10), (192, 288, 4)]\n",
      "***layer param: 1810\n",
      "\tU-bind accounting:  usnchannel= 10  dsnchannel= 10\n",
      "***layer param: 362\n",
      "\tusnchannel = 20\n",
      "Downsampling branch:\t1 stages\tfinal size: (96, 96, 10)\n",
      "      Scalar branch:\t3 stages\tfinal size: (96, 96, 10)\n",
      "  Upsampling branch:\t1 stages\tfinal size: (192, 288, 10)\n",
      "\n",
      "Total free parameters:\t6372\n",
      "Model checkpoint at epoch= 0, mean error= 36403.26343244653\n",
      "Model checkpoint at epoch= 1, mean error= 31916.073030777254\n",
      "Model checkpoint at epoch= 2, mean error= 29551.55346896192\n",
      "Model checkpoint at epoch= 3, mean error= 27400.755346896192\n",
      "Model checkpoint at epoch= 4, mean error= 24600.413145539904\n",
      "lowest loss value: 193163231232.0\n",
      "checkpoint file: ./dnnclimsave-4\n",
      "run time: 57.91013193130493\n"
     ]
    }
   ],
   "source": [
    "t1 = time.time()\n",
    "(loss, ckptfile) = model.runmodel(modelspec, dnnclim, epochs=5, savefile='./dnnclimsave')\n",
    "t2 = time.time()\n",
    "print('lowest loss value: {}'.format(loss))\n",
    "print('checkpoint file: {}'.format(ckptfile))\n",
    "print('run time: {}'.format(t2-t1))"
   ]
  },
  {
   "cell_type": "code",
   "execution_count": null,
   "metadata": {
    "collapsed": true
   },
   "outputs": [],
   "source": []
  }
 ],
 "metadata": {
  "kernelspec": {
   "display_name": "Python 3",
   "language": "python",
   "name": "python3"
  },
  "language_info": {
   "codemirror_mode": {
    "name": "ipython",
    "version": 3
   },
   "file_extension": ".py",
   "mimetype": "text/x-python",
   "name": "python",
   "nbconvert_exporter": "python",
   "pygments_lexer": "ipython3",
   "version": "3.6.0"
  }
 },
 "nbformat": 4,
 "nbformat_minor": 2
}
