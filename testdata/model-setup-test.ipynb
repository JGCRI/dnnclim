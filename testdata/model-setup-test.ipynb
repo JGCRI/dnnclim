{
 "cells": [
  {
   "cell_type": "code",
   "execution_count": 1,
   "metadata": {
    "collapsed": false,
    "deletable": true,
    "editable": true
   },
   "outputs": [],
   "source": [
    "from dnnclim import model\n",
    "import pickle"
   ]
  },
  {
   "cell_type": "code",
   "execution_count": 2,
   "metadata": {
    "collapsed": false,
    "deletable": true,
    "editable": true
   },
   "outputs": [],
   "source": [
    "dsbranch = (\n",
    "    ( # stage 1\n",
    "        ('C', 10, (3,3)),\n",
    "        ('C', 10, (3,3)),\n",
    "        ('D', (2,3))\n",
    "    ),\n",
    ")\n",
    "\n",
    "sclbranch = (\n",
    "    ( # stage 1\n",
    "        ('U', 10, (3,3), (4,4)),\n",
    "        ('C', 10, (3,3))    \n",
    "    ),\n",
    "    ( # stage 2\n",
    "        ('U', 10, (3,3), (4,4)),\n",
    "    ),\n",
    "    ( # stage 3\n",
    "        ('U', 10, (3,3), (6,6)),\n",
    "    )\n",
    ")\n",
    "\n",
    "usbranch = (\n",
    "    ( # stage 1\n",
    "        ('U', 10, (3,3), (2,3)),\n",
    "        ('C', 2, (3,3))\n",
    "    ),\n",
    ")\n",
    "\n",
    "otherargs = {'learnrate':0.001}\n",
    "\n",
    "modelspec = [dsbranch, sclbranch, usbranch, otherargs]"
   ]
  },
  {
   "cell_type": "code",
   "execution_count": 3,
   "metadata": {
    "collapsed": false,
    "deletable": true,
    "editable": true
   },
   "outputs": [
    {
     "name": "stdout",
     "output_type": "stream",
     "text": [
      "Downsampling branch:\t1 stages\tfinal size: (96, 96)\n",
      "      Scalar branch:\t3 stages\tfinal size: (96, 96)\n",
      "  Upsampling branch:\t1 stages\tfinal size: (192, 288)\n"
     ]
    }
   ],
   "source": [
    "model.validate_modelspec(modelspec)"
   ]
  },
  {
   "cell_type": "code",
   "execution_count": 4,
   "metadata": {
    "collapsed": false,
    "deletable": true,
    "editable": true
   },
   "outputs": [],
   "source": [
    "infile = open('dnnclim.dat','rb')\n",
    "dnnclim = pickle.load(infile)\n"
   ]
  },
  {
   "cell_type": "code",
   "execution_count": 5,
   "metadata": {
    "collapsed": false,
    "deletable": true,
    "editable": true
   },
   "outputs": [
    {
     "name": "stdout",
     "output_type": "stream",
     "text": [
      "Downsampling branch:\t1 stages\tfinal size: (96, 96)\n",
      "      Scalar branch:\t3 stages\tfinal size: (96, 96)\n",
      "  Upsampling branch:\t1 stages\tfinal size: (192, 288)\n"
     ]
    },
    {
     "data": {
      "text/plain": [
       "(539125220000.0, None)"
      ]
     },
     "execution_count": 5,
     "metadata": {},
     "output_type": "execute_result"
    }
   ],
   "source": [
    "model.runmodel(modelspec, dnnclim)"
   ]
  }
 ],
 "metadata": {
  "kernelspec": {
   "display_name": "Python 3",
   "language": "python",
   "name": "python3"
  },
  "language_info": {
   "codemirror_mode": {
    "name": "ipython",
    "version": 3
   },
   "file_extension": ".py",
   "mimetype": "text/x-python",
   "name": "python",
   "nbconvert_exporter": "python",
   "pygments_lexer": "ipython3",
   "version": "3.6.0"
  }
 },
 "nbformat": 4,
 "nbformat_minor": 2
}
