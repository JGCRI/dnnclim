{
 "cells": [
  {
   "cell_type": "code",
   "execution_count": 1,
   "metadata": {
    "collapsed": false,
    "deletable": true,
    "editable": true
   },
   "outputs": [],
   "source": [
    "from dnnclim import model\n",
    "import pickle\n",
    "import time"
   ]
  },
  {
   "cell_type": "code",
   "execution_count": 2,
   "metadata": {
    "collapsed": false,
    "deletable": true,
    "editable": true
   },
   "outputs": [],
   "source": [
    "dsbranch = (\n",
    "    ( # stage 1\n",
    "        ('C', 10, (3,3)),\n",
    "        ('C', 10, (3,3)),\n",
    "        ('D', (2,3))\n",
    "    ),\n",
    ")\n",
    "\n",
    "sclbranch = (\n",
    "    ( # stage 1\n",
    "        ('U', 10, (3,3), (4,4)),\n",
    "        ('C', 10, (3,3))    \n",
    "    ),\n",
    "    ( # stage 2\n",
    "        ('U', 10, (3,3), (4,4)),\n",
    "    ),\n",
    "    ( # stage 3\n",
    "        ('U', 10, (3,3), (6,6)),\n",
    "    )\n",
    ")\n",
    "\n",
    "usbranch = (\n",
    "    ( # stage 1\n",
    "        ('U', 10, (3,3), (2,3)),\n",
    "        ('C', 2, (3,3))\n",
    "    ),\n",
    ")\n",
    "\n",
    "otherargs = {'learnrate':0.01, 'regularization':('L1', 1.0), 'temp-loss':('normal',1.0), 'precip-loss':('qp', 1.0)}\n",
    "\n",
    "modelspec = (dsbranch, sclbranch, usbranch, otherargs)"
   ]
  },
  {
   "cell_type": "code",
   "execution_count": 3,
   "metadata": {
    "collapsed": false,
    "deletable": true,
    "editable": true
   },
   "outputs": [],
   "source": [
    "infile = open('dnnclim.dat','rb')\n",
    "dnnclim = pickle.load(infile)\n"
   ]
  },
  {
   "cell_type": "code",
   "execution_count": 4,
   "metadata": {
    "collapsed": false,
    "deletable": true,
    "editable": true
   },
   "outputs": [
    {
     "name": "stdout",
     "output_type": "stream",
     "text": [
      "stdfac = [2.78415187e+02 2.92515452e-05]\n",
      "***layer param: 370\n",
      "\tnchannel in= 4  nchannel out= 10\n",
      "***layer param: 910\n",
      "\tnchannel in= 10  nchannel out= 10\n",
      "***layer param: 190\n",
      "***layer param: 910\n",
      "***layer param: 910\n",
      "***layer param: 910\n",
      "ds_stage_sizes: [(96, 96, 10), (192, 288, 4)]\n",
      "***layer param: 1810\n",
      "\tU-bind accounting:  usnchannel= 10  dsnchannel= 10\n",
      "***layer param: 362\n",
      "\tusnchannel = 20\n",
      "Downsampling branch:\t1 stages\tfinal size: (96, 96, 10)\n",
      "      Scalar branch:\t3 stages\tfinal size: (96, 96, 10)\n",
      "  Upsampling branch:\t1 stages\tfinal size: (192, 288, 10)\n",
      "\n",
      "Total free parameters:\t6378\n",
      "regscl = 34.67920978363123\n",
      "Model checkpoint at epoch= 0, \n",
      "\ttemploss per grid cell= 0.25123162386500714,  preciploss per grid cell= 0.4241247042803697  \n",
      "\tregval= 0.0014482242214101393  totalloss= 0.676804551993675\n",
      "Model checkpoint at epoch= 1, \n",
      "\ttemploss per grid cell= 0.25123162386500714,  preciploss per grid cell= 0.4241247042803697  \n",
      "\tregval= 0.0006139011636772812  totalloss= 0.6759702456637976\n",
      "Model checkpoint at epoch= 2, \n",
      "\ttemploss per grid cell= 0.19325215753068758,  preciploss per grid cell= 0.4241247042803697  \n",
      "\tregval= 0.00045509321588865467  totalloss= 0.6178319828548839\n",
      "Model checkpoint at epoch= 3, \n",
      "\ttemploss per grid cell= 0.17507254809965114,  preciploss per grid cell= 0.4241247042803697  \n",
      "\tregval= 0.00044305777263691106  totalloss= 0.599640322403169\n",
      "Model checkpoint at epoch= 4, \n",
      "\ttemploss per grid cell= 0.1319753838878904,  preciploss per grid cell= 0.4241247042803697  \n",
      "\tregval= 0.0004325393717551393  totalloss= 0.5565326274778299\n",
      "Model checkpoint at epoch= 5, \n",
      "\ttemploss per grid cell= 0.0971562122390739,  preciploss per grid cell= 0.4241247042803697  \n",
      "\tregval= 0.00041071894147710745  totalloss= 0.5216916461878912\n",
      "Model checkpoint at epoch= 6, \n",
      "\ttemploss per grid cell= 0.06193087184311016,  preciploss per grid cell= 0.4241247042803697  \n",
      "\tregval= 0.00042032244059961164  totalloss= 0.48647592113735655\n",
      "Model checkpoint at epoch= 7, \n",
      "\ttemploss per grid cell= 0.010062766435809226,  preciploss per grid cell= 0.4241247042803697  \n",
      "\tregval= 0.0007257909904125773  totalloss= 0.43491328104623106\n",
      "Model checkpoint at epoch= 8, \n",
      "\ttemploss per grid cell= 0.0019152506478577773,  preciploss per grid cell= 0.4241247042803697  \n",
      "\tregval= 0.0008420334175718782  totalloss= 0.42688198417938183\n",
      "Model checkpoint at epoch= 9, \n",
      "\ttemploss per grid cell= 0.0014049164877002539,  preciploss per grid cell= 0.4241247042803697  \n",
      "\tregval= 0.0008445579556667624  totalloss= 0.4263741856884944\n",
      "lowest loss value: [17.054487228393555, 2.518707036972046]\n",
      "checkpoint file: ./dnnclimsave-9\n",
      "run time per epoch: 15.521132654613918\n"
     ]
    }
   ],
   "source": [
    "t1 = time.time()\n",
    "(loss, ckptfile, niter) = model.runmodel(modelspec, dnnclim, epochs=10, savefile='./dnnclimsave', outfile='./dnnclimout.dat')\n",
    "t2 = time.time()\n",
    "print('lowest loss value: {}'.format(loss))\n",
    "print('checkpoint file: {}'.format(ckptfile))\n",
    "print('run time per epoch: {}'.format((t2-t1)/niter))"
   ]
  }
 ],
 "metadata": {
  "kernelspec": {
   "display_name": "Python 3",
   "language": "python",
   "name": "python3"
  },
  "language_info": {
   "codemirror_mode": {
    "name": "ipython",
    "version": 3
   },
   "file_extension": ".py",
   "mimetype": "text/x-python",
   "name": "python",
   "nbconvert_exporter": "python",
   "pygments_lexer": "ipython3",
   "version": "3.6.0"
  }
 },
 "nbformat": 4,
 "nbformat_minor": 2
}
