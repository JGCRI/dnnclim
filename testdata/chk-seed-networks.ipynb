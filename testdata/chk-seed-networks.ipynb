{
 "cells": [
  {
   "cell_type": "code",
   "execution_count": 1,
   "metadata": {
    "collapsed": false
   },
   "outputs": [
    {
     "name": "stdout",
     "output_type": "stream",
     "text": [
      "Configuration 0:\n",
      "\tDownsampling stages:\t1\n",
      "\t  Upsampling stages:\t3\n",
      "\t Field size at join:\t96 x 96\n",
      "\t   Total parameters:\t19450\n",
      "Configuration 1:\n",
      "\tDownsampling stages:\t1\n",
      "\t  Upsampling stages:\t6\n",
      "\t Field size at join:\t96 x 96\n",
      "\t   Total parameters:\t33370\n",
      "Configuration 2:\n",
      "\tDownsampling stages:\t2\n",
      "\t  Upsampling stages:\t5\n",
      "\t Field size at join:\t48 x 48\n",
      "\t   Total parameters:\t34530\n",
      "Configuration 3:\n",
      "\tDownsampling stages:\t2\n",
      "\t  Upsampling stages:\t5\n",
      "\t Field size at join:\t32 x 32\n",
      "\t   Total parameters:\t34530\n",
      "Configuration 4:\n",
      "\tDownsampling stages:\t3\n",
      "\t  Upsampling stages:\t4\n",
      "\t Field size at join:\t16 x 16\n",
      "\t   Total parameters:\t35690\n",
      "Configuration 5:\n",
      "\tDownsampling stages:\t4\n",
      "\t  Upsampling stages:\t3\n",
      "\t Field size at join:\t8 x 8\n",
      "\t   Total parameters:\t36850\n",
      "Configuration 6:\n",
      "\tDownsampling stages:\t5\n",
      "\t  Upsampling stages:\t2\n",
      "\t Field size at join:\t4 x 4\n",
      "\t   Total parameters:\t38010\n",
      "Configuration 7:\n",
      "\tDownsampling stages:\t6\n",
      "\t  Upsampling stages:\t1\n",
      "\t Field size at join:\t2 x 2\n",
      "\t   Total parameters:\t39170\n"
     ]
    }
   ],
   "source": [
    "from dnnclim.seedconfigs import getconfig, nconfig\n",
    "from dnnclim.model import config_report\n",
    "import sys\n",
    "\n",
    "N = nconfig()\n",
    "for i in range(N):\n",
    "    config = getconfig(i)\n",
    "    sys.stdout.write('Configuration {}:\\n'.format(i))\n",
    "    config_report(config, sys.stdout)\n"
   ]
  },
  {
   "cell_type": "code",
   "execution_count": 2,
   "metadata": {
    "collapsed": false
   },
   "outputs": [
    {
     "name": "stdout",
     "output_type": "stream",
     "text": [
      "stdfac = [2.78415187e+02 2.92515452e-05]\n",
      "***layer param: 592\n",
      "\tnchannel in= 4  nchannel out= 16\n",
      "***layer param: 2320\n",
      "\tnchannel in= 16  nchannel out= 16\n",
      "***layer param: 2320\n",
      "\tnchannel in= 16  nchannel out= 16\n",
      "***layer param: 2320\n",
      "\tnchannel in= 16  nchannel out= 16\n",
      "***layer param: 2320\n",
      "\tnchannel in= 16  nchannel out= 16\n",
      "***layer param: 2320\n",
      "\tnchannel in= 16  nchannel out= 16\n",
      "***layer param: 304\n",
      "***layer param: 2320\n",
      "ds_stage_sizes: [(2, 2, 16), (4, 4, 16), (8, 8, 16), (16, 16, 16), (32, 32, 16), (96, 96, 16), (192, 288, 4)]\n",
      "***layer param: 4624\n",
      "\tU-bind accounting:  usnchannel= 16  dsnchannel= 16\n",
      "***layer param: 2312\n",
      "\tusnchannel = 32\n",
      "***layer param: 1168\n",
      "\tU-bind accounting:  usnchannel= 16  dsnchannel= 16\n",
      "***layer param: 2312\n",
      "\tusnchannel = 32\n",
      "***layer param: 1168\n",
      "\tU-bind accounting:  usnchannel= 16  dsnchannel= 16\n",
      "***layer param: 2312\n",
      "\tusnchannel = 32\n",
      "***layer param: 1168\n",
      "\tU-bind accounting:  usnchannel= 16  dsnchannel= 16\n",
      "***layer param: 2312\n",
      "\tusnchannel = 32\n",
      "***layer param: 1168\n",
      "\tU-bind accounting:  usnchannel= 16  dsnchannel= 16\n",
      "***layer param: 2312\n",
      "\tusnchannel = 32\n",
      "***layer param: 1168\n",
      "\tU-bind accounting:  usnchannel= 16  dsnchannel= 16\n",
      "***layer param: 2312\n",
      "\tusnchannel = 32\n",
      "Downsampling branch:\t6 stages\tfinal size: (2, 2, 16)\n",
      "      Scalar branch:\t1 stages\tfinal size: (2, 2, 16)\n",
      "  Upsampling branch:\t6 stages\tfinal size: (192, 288, 16)\n",
      "\n",
      "Total free parameters:\t39170\n",
      "regscl = 5.646770487618075\n"
     ]
    },
    {
     "data": {
      "text/plain": [
       "([278.2952880859375, 2.518707036972046], None, 0)"
      ]
     },
     "execution_count": 2,
     "metadata": {},
     "output_type": "execute_result"
    }
   ],
   "source": [
    "import pickle\n",
    "import dnnclim\n",
    "config2 = getconfig(7)\n",
    "infile = open('dnnclim.dat','rb')\n",
    "climdata = pickle.load(infile)\n",
    "infile.close()\n",
    "dnnclim.model.runmodel(config2, climdata, epochs=1)\n"
   ]
  },
  {
   "cell_type": "code",
   "execution_count": null,
   "metadata": {
    "collapsed": true
   },
   "outputs": [],
   "source": []
  }
 ],
 "metadata": {
  "kernelspec": {
   "display_name": "Python 3",
   "language": "python",
   "name": "python3"
  },
  "language_info": {
   "codemirror_mode": {
    "name": "ipython",
    "version": 3
   },
   "file_extension": ".py",
   "mimetype": "text/x-python",
   "name": "python",
   "nbconvert_exporter": "python",
   "pygments_lexer": "ipython3",
   "version": "3.6.0"
  }
 },
 "nbformat": 4,
 "nbformat_minor": 2
}
